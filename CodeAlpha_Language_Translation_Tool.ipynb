{
 "cells": [
  {
   "cell_type": "code",
   "execution_count": null,
   "id": "5bb1ce6a",
   "metadata": {},
   "outputs": [],
   "source": [
    "!pip install googletrans==4.0.0-rc1"
   ]
  },
  {
   "cell_type": "markdown",
   "id": "fe341cad",
   "metadata": {},
   "source": [
    "\n",
    "## Explanation of Code Functionality\n",
    "\n",
    "This notebook contains a simple script that uses the `googletrans` library to translate text from one language to another. Here's a brief overview of the code:\n",
    "\n",
    "1. **Importing the Translator**: The script begins by importing the `Translator` class from the `googletrans` library.\n",
    "2. **Defining the Translation Function**: The function `translate_text` takes three parameters:\n",
    "   - `text`: The text to be translated.\n",
    "   - `src`: The source language code (default is English - 'en').\n",
    "   - `dest`: The destination language code (default is French - 'fr').\n",
    "   \n",
    "   Inside the function, an instance of the `Translator` is created. The `translate` method is then called with the provided text and language codes. If the translation is successful, the translated text is returned. If an error occurs, an error message is returned.\n",
    "3. **Main Block**: The script includes a main block that prompts the user to input the text they want to translate. It then calls the `translate_text` function and prints the translated text.\n"
   ]
  },
  {
   "cell_type": "markdown",
   "id": "3b655fd6",
   "metadata": {},
   "source": [
    "\n",
    "## Instructions for Users\n",
    "\n",
    "To use this notebook, follow these steps:\n",
    "\n",
    "1. **Run the Notebook**: Execute the cells in the notebook. If you are using Google Colab, you can run each cell by selecting it and clicking the 'Run' button (or pressing `Shift + Enter`).\n",
    "2. **Input Text**: When prompted, enter the text you wish to translate from English to French.\n",
    "3. **View Translated Text**: The translated text will be displayed in the output section below the code cell.\n",
    "\n",
    "### Note\n",
    "- Ensure that you have an active internet connection, as the `googletrans` library requires access to Google Translate's API.\n",
    "- If you encounter any errors, make sure the `googletrans` library is installed and up to date.\n"
   ]
  },
  {
   "cell_type": "code",
   "execution_count": null,
   "id": "33baf97d",
   "metadata": {},
   "outputs": [],
   "source": [
    "\n",
    "from googletrans import Translator\n",
    "\n",
    "def translate_text(text, src='en', dest='fr'):\n",
    "    # Create a Translator object\n",
    "    translator = Translator()\n",
    "    try:\n",
    "        # Attempt to translate the text\n",
    "        translation = translator.translate(text, src=src, dest=dest)\n",
    "        return translation.text\n",
    "    except Exception as e:\n",
    "        # Return an error message if translation fails\n",
    "        return f\"Error: {e}\"\n",
    "\n",
    "if __name__ == \"__main__\":\n",
    "    # Prompt the user for input text\n",
    "    text_to_translate = input(\"Enter text to translate from English to French: \")\n",
    "    # Translate the text and display the result\n",
    "    translated_text = translate_text(text_to_translate)\n",
    "    print(f\"Translated text: {translated_text}\")\n"
   ]
  }
 ],
 "metadata": {
  "colab": {
   "provenance": []
  },
  "kernelspec": {
   "display_name": "Python 3",
   "name": "python3"
  },
  "language_info": {
   "name": "python"
  }
 },
 "nbformat": 4,
 "nbformat_minor": 0
}
